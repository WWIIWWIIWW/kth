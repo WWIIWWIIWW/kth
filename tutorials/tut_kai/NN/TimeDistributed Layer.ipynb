{
 "cells": [
  {
   "cell_type": "markdown",
   "id": "39b7066b",
   "metadata": {},
   "source": [
    "https://machinelearningmastery.com/timedistributed-layer-for-long-short-term-memory-networks-in-python/"
   ]
  },
  {
   "cell_type": "markdown",
   "id": "0e422343",
   "metadata": {},
   "source": [
    "<font size=\"5\">**TimeDistributed Layer**<font>"
   ]
  },
  {
   "cell_type": "markdown",
   "id": "93cbc47b",
   "metadata": {},
   "source": [
    "<font size=\"3\"> Long Short-Term Networks or LSTMs are a popular and powerful type of Recurrent Neural Network, or RNN.<font>\n",
    "\n",
    "<font size=\"3\">They can be quite difficult to configure and apply to arbitrary sequence prediction problems, even with well defined and “easy to use” interfaces like those provided in the Keras deep learning library in Python.<font>\n",
    "\n",
    "<font size=\"3\">One reason for this difficulty in Keras is the use of the TimeDistributed wrapper layer and the need for some LSTM layers to return sequences rather than single values.<font>"
   ]
  },
  {
   "cell_type": "markdown",
   "id": "1e68d938",
   "metadata": {},
   "source": [
    "<font size=\"3\">**Data preparation**<font>"
   ]
  },
  {
   "cell_type": "code",
   "execution_count": 1,
   "id": "3c79453a",
   "metadata": {},
   "outputs": [
    {
     "name": "stdout",
     "output_type": "stream",
     "text": [
      "[0.  0.2 0.4 0.6 0.8]\n"
     ]
    }
   ],
   "source": [
    "import numpy as np\n",
    "length = 5\n",
    "seq = np.array([i/float(length) for i in range(length)])\n",
    "print(seq)"
   ]
  },
  {
   "cell_type": "markdown",
   "id": "41341c53",
   "metadata": {},
   "source": [
    "<font size=\"5\">**One-to-One LSTM for Sequence Prediction**<font>"
   ]
  },
  {
   "cell_type": "markdown",
   "id": "cca62524",
   "metadata": {},
   "source": [
    "<font size=\"3\"> The input-output pairs are as follows:<font>\n",
    "<br> X,&emsp;&emsp;y\n",
    "<br>0.0&emsp;&emsp;0.0\n",
    "<br>0.2&emsp;&emsp;0.2\n",
    "<br>0.4&emsp;&emsp;0.4\n",
    "<br>0.6&emsp;&emsp;0.6\n",
    "<br>0.8&emsp;&emsp;0.8\n",
    "\n",
    "<font size=\"3\">The input to LSTM must be 3D. Hence reshape seq from *[samples, timesteps]* into *[samples, timesteps, features]*.<font>"
   ]
  },
  {
   "cell_type": "code",
   "execution_count": 2,
   "id": "204de41d",
   "metadata": {},
   "outputs": [
    {
     "name": "stdout",
     "output_type": "stream",
     "text": [
      "X:\n",
      " [[[0. ]]\n",
      "\n",
      " [[0.2]]\n",
      "\n",
      " [[0.4]]\n",
      "\n",
      " [[0.6]]\n",
      "\n",
      " [[0.8]]]\n",
      "y:\n",
      " [[0. ]\n",
      " [0.2]\n",
      " [0.4]\n",
      " [0.6]\n",
      " [0.8]]\n"
     ]
    }
   ],
   "source": [
    "X = seq.reshape(5, 1, 1) #5samples, 1snapshot, 1feature\n",
    "y = seq.reshape(5, 1)    #5samples, 1feature\n",
    "\n",
    "# summarize the data\n",
    "print('X:\\n',X)\n",
    "print('y:\\n',y)"
   ]
  },
  {
   "cell_type": "markdown",
   "id": "fbce3c0c",
   "metadata": {},
   "source": [
    "<font size=\"3\">We will define the network model as having 1 input with 1 time step. The first hidden layer will be an LSTM with 5 units. The output layer with be a fully-connected layer with 1 output.<font>"
   ]
  },
  {
   "cell_type": "code",
   "execution_count": 3,
   "id": "80c89988",
   "metadata": {},
   "outputs": [
    {
     "name": "stderr",
     "output_type": "stream",
     "text": [
      "2021-10-12 13:07:14.605936: W tensorflow/stream_executor/platform/default/dso_loader.cc:64] Could not load dynamic library 'libcudart.so.11.0'; dlerror: libcudart.so.11.0: cannot open shared object file: No such file or directory\n",
      "2021-10-12 13:07:14.605955: I tensorflow/stream_executor/cuda/cudart_stub.cc:29] Ignore above cudart dlerror if you do not have a GPU set up on your machine.\n"
     ]
    },
    {
     "name": "stdout",
     "output_type": "stream",
     "text": [
      "Model: \"sequential\"\n",
      "_________________________________________________________________\n",
      "Layer (type)                 Output Shape              Param #   \n",
      "=================================================================\n",
      "lstm (LSTM)                  (None, 5)                 140       \n",
      "_________________________________________________________________\n",
      "dense (Dense)                (None, 1)                 6         \n",
      "=================================================================\n",
      "Total params: 146\n",
      "Trainable params: 146\n",
      "Non-trainable params: 0\n",
      "_________________________________________________________________\n",
      "None\n"
     ]
    },
    {
     "name": "stderr",
     "output_type": "stream",
     "text": [
      "2021-10-12 13:07:15.597402: W tensorflow/stream_executor/platform/default/dso_loader.cc:64] Could not load dynamic library 'libcudart.so.11.0'; dlerror: libcudart.so.11.0: cannot open shared object file: No such file or directory\n",
      "2021-10-12 13:07:15.597508: W tensorflow/stream_executor/platform/default/dso_loader.cc:64] Could not load dynamic library 'libcublas.so.11'; dlerror: libcublas.so.11: cannot open shared object file: No such file or directory\n",
      "2021-10-12 13:07:15.597584: W tensorflow/stream_executor/platform/default/dso_loader.cc:64] Could not load dynamic library 'libcublasLt.so.11'; dlerror: libcublasLt.so.11: cannot open shared object file: No such file or directory\n",
      "2021-10-12 13:07:15.600041: W tensorflow/stream_executor/platform/default/dso_loader.cc:64] Could not load dynamic library 'libcusolver.so.11'; dlerror: libcusolver.so.11: cannot open shared object file: No such file or directory\n",
      "2021-10-12 13:07:15.600104: W tensorflow/stream_executor/platform/default/dso_loader.cc:64] Could not load dynamic library 'libcusparse.so.11'; dlerror: libcusparse.so.11: cannot open shared object file: No such file or directory\n",
      "2021-10-12 13:07:15.600155: W tensorflow/stream_executor/platform/default/dso_loader.cc:64] Could not load dynamic library 'libcudnn.so.8'; dlerror: libcudnn.so.8: cannot open shared object file: No such file or directory\n",
      "2021-10-12 13:07:15.600164: W tensorflow/core/common_runtime/gpu/gpu_device.cc:1835] Cannot dlopen some GPU libraries. Please make sure the missing libraries mentioned above are installed properly if you would like to use GPU. Follow the guide at https://www.tensorflow.org/install/gpu for how to download and setup the required libraries for your platform.\n",
      "Skipping registering GPU devices...\n",
      "2021-10-12 13:07:15.600453: I tensorflow/core/platform/cpu_feature_guard.cc:142] This TensorFlow binary is optimized with oneAPI Deep Neural Network Library (oneDNN) to use the following CPU instructions in performance-critical operations:  AVX2 AVX512F FMA\n",
      "To enable them in other operations, rebuild TensorFlow with the appropriate compiler flags.\n"
     ]
    }
   ],
   "source": [
    "from keras.models import Sequential\n",
    "from keras.layers import Dense\n",
    "from keras.layers import LSTM\n",
    "from NN import *\n",
    "from keras.utils.vis_utils import plot_model\n",
    "\n",
    "# define LSTM configuration\n",
    "n_neurons = 5\n",
    "n_batch = 5 # same as number of samples here.\n",
    "n_epoch = 1000\n",
    "\n",
    "# create LSTM\n",
    "model = Sequential()\n",
    "model.add(LSTM(n_neurons, input_shape=(1, 1))) #(n_snapshots, n_features)\n",
    "model.add(Dense(1))\n",
    "model.compile(loss='mse', optimizer='adam')\n",
    "print(model.summary())"
   ]
  },
  {
   "cell_type": "markdown",
   "id": "805f1d6d",
   "metadata": {},
   "source": [
    "<font size=\"3\">The number of parameters are calculated as in [here](https://datascience.stackexchange.com/questions/10615/number-of-parameters-in-an-lstm-model)<font>"
   ]
  },
  {
   "cell_type": "code",
   "execution_count": 4,
   "id": "8841ed72",
   "metadata": {},
   "outputs": [
    {
     "name": "stderr",
     "output_type": "stream",
     "text": [
      "2021-10-12 13:07:16.011627: I tensorflow/compiler/mlir/mlir_graph_optimization_pass.cc:185] None of the MLIR Optimization Passes are enabled (registered 2)\n"
     ]
    },
    {
     "name": "stdout",
     "output_type": "stream",
     "text": [
      "0.0\n",
      "0.2\n",
      "0.4\n",
      "0.6\n",
      "0.8\n"
     ]
    }
   ],
   "source": [
    "# train LSTM\n",
    "history = model.fit(X, y, epochs=n_epoch, batch_size=n_batch, verbose=0)\n",
    "# evaluate\n",
    "result = model.predict(X, batch_size=n_batch, verbose=0)\n",
    "for value in result:\n",
    "    print('%.1f' % value)"
   ]
  },
  {
   "cell_type": "markdown",
   "id": "5ebede56",
   "metadata": {},
   "source": [
    "<font size=\"3\">Here, when input is 0.2, output is also 0.2, following the one-to-one expectation. LSTM trained successfully.<font>\n",
    "    \n",
    "<br><font size=\"3\">Now, Show the keys in history [which is loss in this case] and plot loss on training datasets.<font>"
   ]
  },
  {
   "cell_type": "code",
   "execution_count": 5,
   "id": "223b9618",
   "metadata": {},
   "outputs": [
    {
     "name": "stdout",
     "output_type": "stream",
     "text": [
      "dict_keys(['loss'])\n"
     ]
    },
    {
     "data": {
      "image/png": "[encoded data removed]",
      "text/plain": [
       "<Figure size 518.4x518.4 with 1 Axes>"
      ]
     },
     "metadata": {
      "needs_background": "light"
     },
     "output_type": "display_data"
    }
   ],
   "source": [
    "show(history)\n",
    "plot(history, xy=('epoch', 'loss'), save=False, figname=None,figpath=None)"
   ]
  },
  {
   "cell_type": "markdown",
   "id": "e50df4d8",
   "metadata": {},
   "source": [
    "<font size=\"3\">To show the following node graph, graphvia is needed by:\n",
    "*sudo apt install graphviz*<font>"
   ]
  },
  {
   "cell_type": "code",
   "execution_count": 6,
   "id": "af660e92",
   "metadata": {},
   "outputs": [
    {
     "data": {
      "image/png": "[encoded data removed]",
      "text/plain": [
       "<IPython.core.display.Image object>"
      ]
     },
     "execution_count": 6,
     "metadata": {},
     "output_type": "execute_result"
    }
   ],
   "source": [
    "img_dir = './output/LSTM-one-to-one.png'\n",
    "plot_model(model, to_file=img_dir, show_shapes=True, show_dtype=False,\n",
    "           show_layer_names=True, rankdir=\"LR\", expand_nested=False,\n",
    "           dpi=96, layer_range=None,\n",
    "          ) \n",
    "#rankdir=\"TB\" = vertical or 'LR' = horizontal"
   ]
  },
  {
   "cell_type": "markdown",
   "id": "076be784",
   "metadata": {},
   "source": [
    "<font size=\"5\">**Many-to-One LSTM for Sequence Prediction (without  TimeDistributed)**<font>"
   ]
  },
  {
   "cell_type": "markdown",
   "id": "ba657757",
   "metadata": {},
   "source": [
    "<font size=\"3\">The input to LSTM must be 3D. \n",
    "Reshape seq from [samples, timesteps] into [samples, timesteps, features].<font>"
   ]
  },
  {
   "cell_type": "code",
   "execution_count": 7,
   "id": "827df31e",
   "metadata": {},
   "outputs": [
    {
     "name": "stdout",
     "output_type": "stream",
     "text": [
      "X:\n",
      " [[[0. ]\n",
      "  [0.2]\n",
      "  [0.4]\n",
      "  [0.6]\n",
      "  [0.8]]]\n",
      "y:\n",
      " [[0.  0.2 0.4 0.6 0.8]]\n"
     ]
    }
   ],
   "source": [
    "X = seq.reshape(1, 5, 1) #1samples, 5snapshot, 1feature\n",
    "y = seq.reshape(1, 5)    #1samples, 5feature\n",
    "\n",
    "# summarize the data\n",
    "print('X:\\n',X)\n",
    "print('y:\\n',y)"
   ]
  },
  {
   "cell_type": "markdown",
   "id": "140c012e",
   "metadata": {},
   "source": [
    "<font size=\"3\">We will define the network model as having 1 input with 5 snapshots. The first hidden layer will be an LSTM with 5 units. The output layer with be a fully-connected layer with 5 neurons.<font>"
   ]
  },
  {
   "cell_type": "code",
   "execution_count": 8,
   "id": "69b3d1fd",
   "metadata": {},
   "outputs": [
    {
     "name": "stdout",
     "output_type": "stream",
     "text": [
      "Model: \"sequential_1\"\n",
      "_________________________________________________________________\n",
      "Layer (type)                 Output Shape              Param #   \n",
      "=================================================================\n",
      "lstm_1 (LSTM)                (None, 5)                 140       \n",
      "_________________________________________________________________\n",
      "dense_1 (Dense)              (None, 5)                 30        \n",
      "=================================================================\n",
      "Total params: 170\n",
      "Trainable params: 170\n",
      "Non-trainable params: 0\n",
      "_________________________________________________________________\n",
      "None\n"
     ]
    }
   ],
   "source": [
    "# define LSTM configuration\n",
    "n_neurons = 5\n",
    "n_batch = 1 # same as number of samples here.\n",
    "n_epoch = 500\n",
    "\n",
    "# create LSTM\n",
    "model = Sequential()\n",
    "model.add(LSTM(n_neurons, input_shape=(5, 1))) #(n_snapshots, n_features)\n",
    "model.add(Dense(5))\n",
    "model.compile(loss='mse', optimizer='adam')\n",
    "print(model.summary())"
   ]
  },
  {
   "cell_type": "markdown",
   "id": "aa982383",
   "metadata": {},
   "source": [
    "<font size=\"3\">Next, we fit the model for only 500 epochs and a batch size of 1 for the single sample in the training dataset.<font>"
   ]
  },
  {
   "cell_type": "code",
   "execution_count": 9,
   "id": "9c440cb9",
   "metadata": {},
   "outputs": [
    {
     "name": "stdout",
     "output_type": "stream",
     "text": [
      "0.0\n",
      "0.2\n",
      "0.4\n",
      "0.6\n",
      "0.8\n"
     ]
    }
   ],
   "source": [
    "# train LSTM\n",
    "history = model.fit(X, y, epochs=n_epoch, batch_size=n_batch, verbose=0)\n",
    "# evaluate\n",
    "result = model.predict(X, batch_size=n_batch, verbose=0)\n",
    "for value in result[0,:]:\n",
    "\tprint('%.1f' % value)"
   ]
  },
  {
   "cell_type": "code",
   "execution_count": 10,
   "id": "89ed4257",
   "metadata": {},
   "outputs": [
    {
     "name": "stdout",
     "output_type": "stream",
     "text": [
      "dict_keys(['loss'])\n"
     ]
    },
    {
     "data": {
      "image/png": "[encoded data removed]",
      "text/plain": [
       "<Figure size 518.4x518.4 with 1 Axes>"
      ]
     },
     "metadata": {
      "needs_background": "light"
     },
     "output_type": "display_data"
    }
   ],
   "source": [
    "show(history)\n",
    "plot(history, xy=('epoch', 'loss'), save=False, figname=None,figpath=None)"
   ]
  },
  {
   "cell_type": "code",
   "execution_count": 11,
   "id": "380be19a",
   "metadata": {},
   "outputs": [
    {
     "data": {
      "image/png": "[encoded data removed]",
      "text/plain": [
       "<IPython.core.display.Image object>"
      ]
     },
     "execution_count": 11,
     "metadata": {},
     "output_type": "execute_result"
    }
   ],
   "source": [
    "img_dir = './output/LSTM-many-to-one.png'\n",
    "plot_model(model, to_file=img_dir, show_shapes=True, show_dtype=False,\n",
    "           show_layer_names=True, rankdir=\"LR\", expand_nested=False,\n",
    "           dpi=96, layer_range=None,\n",
    "          ) \n",
    "#rankdir=\"TB\" = vertical or 'LR' = horizontal"
   ]
  },
  {
   "cell_type": "markdown",
   "id": "d1fe0a0c",
   "metadata": {},
   "source": [
    "<font size=\"5\">**Many-to-Many LSTM for Sequence Prediction (with TimeDistributed)**<font>"
   ]
  },
  {
   "cell_type": "markdown",
   "id": "c1d3af59",
   "metadata": {},
   "source": [
    "<font size=\"3\">The input to LSTM must be 3D. Reshape seq from [samples, timesteps] into [samples, timesteps, features].<font>"
   ]
  },
  {
   "cell_type": "markdown",
   "id": "64863e37",
   "metadata": {},
   "source": [
    "<font size=\"3\">We can define the shape of the output as having 1 sample, 5 time steps, and 1 feature, just like the input sequence, as follows:<font>"
   ]
  },
  {
   "cell_type": "code",
   "execution_count": 12,
   "id": "45f0bebd",
   "metadata": {},
   "outputs": [],
   "source": [
    "n_snapshots = 5\n",
    "X = seq.reshape(1, n_snapshots, 1) #1samples, 5snapshot, 1feature\n",
    "y = seq.reshape(1, n_snapshots, 1) #1samples, 5snapshot, 1feature"
   ]
  },
  {
   "cell_type": "markdown",
   "id": "f622cce6",
   "metadata": {},
   "source": [
    "<font size=\"3\">We can define the LSTM hidden layer to return sequences rather than single values by setting the “return_sequences” argument to true.<font>"
   ]
  },
  {
   "cell_type": "code",
   "execution_count": 13,
   "id": "91bbb928",
   "metadata": {
    "scrolled": true
   },
   "outputs": [],
   "source": [
    "# define LSTM configuration\n",
    "n_neurons = n_snapshots\n",
    "n_batch = 1\n",
    "n_epoch = 1000 #increased from 500 to 1000 to match the first one-to-one example\n",
    "# create LSTM\n",
    "model = Sequential()"
   ]
  },
  {
   "cell_type": "markdown",
   "id": "1a46fb75",
   "metadata": {},
   "source": [
    "<font size=\"3\">Define the LSTM hidden layer to return sequences rather than single values by setting the “return_sequences” argument to true.<font>"
   ]
  },
  {
   "cell_type": "code",
   "execution_count": 14,
   "id": "95a2cb92",
   "metadata": {},
   "outputs": [],
   "source": [
    "model.add(LSTM(n_neurons, input_shape=(n_snapshots, 1), return_sequences=True)) # return_sequences=True (n_snapshots, n_features)"
   ]
  },
  {
   "cell_type": "markdown",
   "id": "8bf54bda",
   "metadata": {},
   "source": [
    "<font size=\"3\">The single output value in the output layer is key. It highlights that we intend to output one time step from the sequence for each time step in the input. It just so happens that we will process 5 time steps of the input sequence at a time.<font>"
   ]
  },
  {
   "cell_type": "code",
   "execution_count": 15,
   "id": "5493c0f4",
   "metadata": {
    "scrolled": false
   },
   "outputs": [
    {
     "name": "stdout",
     "output_type": "stream",
     "text": [
      "Model: \"sequential_2\"\n",
      "_________________________________________________________________\n",
      "Layer (type)                 Output Shape              Param #   \n",
      "=================================================================\n",
      "lstm_2 (LSTM)                (None, 5, 5)              140       \n",
      "_________________________________________________________________\n",
      "time_distributed (TimeDistri (None, 5, 1)              6         \n",
      "=================================================================\n",
      "Total params: 146\n",
      "Trainable params: 146\n",
      "Non-trainable params: 0\n",
      "_________________________________________________________________\n",
      "None\n",
      "0.0\n",
      "0.2\n",
      "0.4\n",
      "0.6\n",
      "0.8\n"
     ]
    }
   ],
   "source": [
    "from keras.layers import TimeDistributed\n",
    "model.add(TimeDistributed(Dense(1))) # TimeDistributed is needed\n",
    "model.compile(loss='mse', optimizer='adam')\n",
    "print(model.summary())\n",
    "# train LSTM\n",
    "history = model.fit(X, y, epochs=n_epoch, batch_size=n_batch, verbose=0)\n",
    "# evaluate\n",
    "result = model.predict(X, batch_size=n_batch, verbose=0)\n",
    "for value in result[0,:]:\n",
    "    print('%.1f' % value)"
   ]
  },
  {
   "cell_type": "code",
   "execution_count": 16,
   "id": "53d466fa",
   "metadata": {},
   "outputs": [
    {
     "name": "stdout",
     "output_type": "stream",
     "text": [
      "dict_keys(['loss'])\n"
     ]
    },
    {
     "data": {
      "image/png": "[encoded data removed]",
      "text/plain": [
       "<Figure size 518.4x518.4 with 1 Axes>"
      ]
     },
     "metadata": {
      "needs_background": "light"
     },
     "output_type": "display_data"
    }
   ],
   "source": [
    "show(history)\n",
    "plot(history, xy=('epoch', 'loss'), save=False, figname=None,figpath=None)"
   ]
  },
  {
   "cell_type": "code",
   "execution_count": 17,
   "id": "32fc5c2f",
   "metadata": {},
   "outputs": [
    {
     "data": {
      "image/png": "[encoded data removed]",
      "text/plain": [
       "<IPython.core.display.Image object>"
      ]
     },
     "execution_count": 17,
     "metadata": {},
     "output_type": "execute_result"
    }
   ],
   "source": [
    "img_dir = './output/LSTM-many-to-many.png'\n",
    "plot_model(model, to_file=img_dir, show_shapes=True, show_dtype=False,\n",
    "           show_layer_names=True, rankdir=\"LR\", expand_nested=False,\n",
    "           dpi=96, layer_range=None,\n",
    "          ) \n",
    "#rankdir=\"TB\" = vertical or 'LR' = horizontal"
   ]
  },
  {
   "cell_type": "markdown",
   "id": "0f1f31c3",
   "metadata": {},
   "source": [
    "<font size=\"5\">**A Summary:**<font>"
   ]
  },
  {
   "cell_type": "markdown",
   "id": "789dfe2a",
   "metadata": {},
   "source": [
    "<font size=\"3\">Basically, there’re three configurations for X (and thus y):<font>\n",
    "1. (5,1,1) – 5 batchs, 1 time step, 1 feature/step – result shape (5,1)\n",
    "2. (1,5,1) – 1 batch, 5 time steps, 1 feature/step – result shape (1,5)\n",
    "3. (1,1,5) – 1 batch, 1 time step, 5 features/step"
   ]
  },
  {
   "cell_type": "markdown",
   "id": "26473ea6",
   "metadata": {},
   "source": [
    "5samples, 1snapshot, 1feature ------------> 5samples, 1feature (5 batch)\n",
    "1samples, 5snapshot, 1feature ------------> 1samples, 5feature (1 batch)\n",
    "1samples, 5snapshot, 1feature ------------> 1samples, 5snapshot, 1feature, (1 batch)"
   ]
  }
 ],
 "metadata": {
  "kernelspec": {
   "display_name": "Python 3 (ipykernel)",
   "language": "python",
   "name": "python3"
  },
  "language_info": {
   "codemirror_mode": {
    "name": "ipython",
    "version": 3
   },
   "file_extension": ".py",
   "mimetype": "text/x-python",
   "name": "python",
   "nbconvert_exporter": "python",
   "pygments_lexer": "ipython3",
   "version": "3.8.5"
  }
 },
 "nbformat": 4,
 "nbformat_minor": 5
}
