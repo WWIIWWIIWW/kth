{
 "cells": [
  {
   "cell_type": "markdown",
   "id": "f2f76183",
   "metadata": {},
   "source": [
    "https://machinelearningmastery.com/how-to-develop-lstm-models-for-time-series-forecasting/"
   ]
  },
  {
   "cell_type": "markdown",
   "id": "6ee11fc0",
   "metadata": {},
   "source": [
    "<font size=\"5\">**Data Preparation:**</font>"
   ]
  },
  {
   "cell_type": "markdown",
   "id": "c14675d0",
   "metadata": {},
   "source": [
    "&emsp;&emsp;&emsp;&emsp;X (past ob.),&emsp; y (pred.)\n",
    "<br>snapshot1: 10, 20, 30&emsp; &nbsp; 40\n",
    "<br>snapshot2: 20, 30, 40&emsp; &nbsp; 50\n",
    "<br>snapshot3: 30, 40, 50&emsp; &nbsp; 60"
   ]
  },
  {
   "cell_type": "code",
   "execution_count": 1,
   "id": "7aba4622",
   "metadata": {},
   "outputs": [
    {
     "name": "stdout",
     "output_type": "stream",
     "text": [
      "[10 20 30] 40\n",
      "[20 30 40] 50\n",
      "[30 40 50] 60\n",
      "[40 50 60] 70\n",
      "[50 60 70] 80\n",
      "[60 70 80] 90\n"
     ]
    }
   ],
   "source": [
    "from LSTM import *\n",
    "# define input sequence\n",
    "raw_data = [10, 20, 30, 40, 50, 60, 70, 80, 90]\n",
    "# choose a number of time steps\n",
    "n_snapshots = 3\n",
    "# split into samples\n",
    "X, y = split_sequence(raw_data, n_snapshots)\n",
    "# summarize the data\n",
    "for i in range(len(X)):\n",
    "    print(X[i], y[i])"
   ]
  },
  {
   "cell_type": "markdown",
   "id": "a4cbc1fb",
   "metadata": {},
   "source": [
    "<font size=\"5\">**Vanilla LSTM**</font>\n",
    "\n",
    "A Vanilla LSTM is an LSTM model that has a single hidden layer of LSTM units, and an output layer used to make a prediction."
   ]
  },
  {
   "cell_type": "code",
   "execution_count": 2,
   "id": "3a3d4d96",
   "metadata": {},
   "outputs": [
    {
     "name": "stderr",
     "output_type": "stream",
     "text": [
      "2021-10-05 15:09:17.641790: W tensorflow/stream_executor/platform/default/dso_loader.cc:64] Could not load dynamic library 'libcudart.so.11.0'; dlerror: libcudart.so.11.0: cannot open shared object file: No such file or directory\n",
      "2021-10-05 15:09:17.641807: I tensorflow/stream_executor/cuda/cudart_stub.cc:29] Ignore above cudart dlerror if you do not have a GPU set up on your machine.\n"
     ]
    }
   ],
   "source": [
    "import numpy as np\n",
    "\n",
    "from tensorflow.keras.models import Sequential\n",
    "from tensorflow.keras.layers import LSTM\n",
    "from tensorflow.keras.layers import Dense"
   ]
  },
  {
   "cell_type": "code",
   "execution_count": 3,
   "id": "44e18dc2",
   "metadata": {},
   "outputs": [
    {
     "name": "stderr",
     "output_type": "stream",
     "text": [
      "2021-10-05 15:09:19.399925: W tensorflow/stream_executor/platform/default/dso_loader.cc:64] Could not load dynamic library 'libcudart.so.11.0'; dlerror: libcudart.so.11.0: cannot open shared object file: No such file or directory\n",
      "2021-10-05 15:09:19.400061: W tensorflow/stream_executor/platform/default/dso_loader.cc:64] Could not load dynamic library 'libcublas.so.11'; dlerror: libcublas.so.11: cannot open shared object file: No such file or directory\n",
      "2021-10-05 15:09:19.400146: W tensorflow/stream_executor/platform/default/dso_loader.cc:64] Could not load dynamic library 'libcublasLt.so.11'; dlerror: libcublasLt.so.11: cannot open shared object file: No such file or directory\n",
      "2021-10-05 15:09:19.405434: W tensorflow/stream_executor/platform/default/dso_loader.cc:64] Could not load dynamic library 'libcusolver.so.11'; dlerror: libcusolver.so.11: cannot open shared object file: No such file or directory\n",
      "2021-10-05 15:09:19.405491: W tensorflow/stream_executor/platform/default/dso_loader.cc:64] Could not load dynamic library 'libcusparse.so.11'; dlerror: libcusparse.so.11: cannot open shared object file: No such file or directory\n",
      "2021-10-05 15:09:19.405533: W tensorflow/stream_executor/platform/default/dso_loader.cc:64] Could not load dynamic library 'libcudnn.so.8'; dlerror: libcudnn.so.8: cannot open shared object file: No such file or directory\n",
      "2021-10-05 15:09:19.405542: W tensorflow/core/common_runtime/gpu/gpu_device.cc:1835] Cannot dlopen some GPU libraries. Please make sure the missing libraries mentioned above are installed properly if you would like to use GPU. Follow the guide at https://www.tensorflow.org/install/gpu for how to download and setup the required libraries for your platform.\n",
      "Skipping registering GPU devices...\n",
      "2021-10-05 15:09:19.405868: I tensorflow/core/platform/cpu_feature_guard.cc:142] This TensorFlow binary is optimized with oneAPI Deep Neural Network Library (oneDNN) to use the following CPU instructions in performance-critical operations:  AVX2 AVX512F FMA\n",
      "To enable them in other operations, rebuild TensorFlow with the appropriate compiler flags.\n"
     ]
    }
   ],
   "source": [
    "# reshape X from [samples, timesteps] into [samples, timesteps, features]\n",
    "n_features = 1 # universal output\n",
    "X = X.reshape((X.shape[0], X.shape[1], n_features))\n",
    "\n",
    "# define model\n",
    "model = Sequential()\n",
    "model.add(LSTM(50, activation='relu', input_shape=(n_snapshots, n_features)))\n",
    "model.add(Dense(1))\n",
    "model.compile(optimizer='adam', loss='mse')"
   ]
  },
  {
   "cell_type": "markdown",
   "id": "fdc75ad3",
   "metadata": {},
   "source": [
    "In this case, we define a model with 50 LSTM units in the hidden layer and an output layer that predicts a single numerical value.\n",
    "\n",
    "The model is fit using the [efficient Adam version of stochastic gradient descent](https://machinelearningmastery.com/adam-optimization-algorithm-for-deep-learning/) and optimized using the mean squared error, or *‘mse‘* loss function."
   ]
  },
  {
   "cell_type": "code",
   "execution_count": 4,
   "id": "bd6f389c",
   "metadata": {},
   "outputs": [
    {
     "name": "stderr",
     "output_type": "stream",
     "text": [
      "2021-10-05 15:09:19.599789: I tensorflow/compiler/mlir/mlir_graph_optimization_pass.cc:185] None of the MLIR Optimization Passes are enabled (registered 2)\n"
     ]
    },
    {
     "data": {
      "text/plain": [
       "<keras.callbacks.History at 0x7f07644a3bb0>"
      ]
     },
     "execution_count": 4,
     "metadata": {},
     "output_type": "execute_result"
    }
   ],
   "source": [
    "# fit model\n",
    "model.fit(X, y, epochs=200, verbose=0)"
   ]
  },
  {
   "cell_type": "markdown",
   "id": "08f276fd",
   "metadata": {},
   "source": [
    "We can predict the next value in the sequence by providing the input:"
   ]
  },
  {
   "cell_type": "code",
   "execution_count": 5,
   "id": "dc5d0f1c",
   "metadata": {},
   "outputs": [
    {
     "name": "stdout",
     "output_type": "stream",
     "text": [
      "Input:\n",
      " [[[70]\n",
      "  [80]\n",
      "  [90]]]\n",
      "Prediction:\n",
      " [[101.76299]]\n"
     ]
    }
   ],
   "source": [
    "# demonstrate prediction\n",
    "X_input = np.array([70, 80, 90])\n",
    "X_input = X_input.reshape((1, n_snapshots, n_features))\n",
    "print ('Input:\\n', X_input)\n",
    "y_pred = model.predict(X_input, verbose=0)\n",
    "print ('Prediction:\\n', y_pred)"
   ]
  },
  {
   "cell_type": "markdown",
   "id": "4bc82e81",
   "metadata": {},
   "source": [
    "<font size=\"5\">**Stacked LSTM**<font>\n",
    "\n",
    "Multiple hidden LSTM layers can be stacked one on top of another in what is referred to as a Stacked LSTM model."
   ]
  },
  {
   "cell_type": "code",
   "execution_count": 6,
   "id": "32419d59",
   "metadata": {},
   "outputs": [
    {
     "name": "stdout",
     "output_type": "stream",
     "text": [
      "Input:\n",
      " [[[70]\n",
      "  [80]\n",
      "  [90]]]\n",
      "Prediction:\n",
      " [[104.27552]]\n"
     ]
    }
   ],
   "source": [
    "# define model\n",
    "model = Sequential()\n",
    "model.add(LSTM(50, activation='relu', return_sequences=True, input_shape=(n_snapshots, n_features)))\n",
    "model.add(LSTM(50, activation='relu'))\n",
    "model.add(Dense(1))\n",
    "model.compile(optimizer='adam', loss='mse')\n",
    "# fit model\n",
    "model.fit(X, y, epochs=200, verbose=0)\n",
    "# demonstrate prediction\n",
    "X_input = np.array([70, 80, 90])\n",
    "X_input = X_input.reshape((1, n_snapshots, n_features))\n",
    "print ('Input:\\n', X_input)\n",
    "y_pred = model.predict(X_input, verbose=0)\n",
    "print ('Prediction:\\n', y_pred)"
   ]
  },
  {
   "cell_type": "markdown",
   "id": "d50bcb89",
   "metadata": {},
   "source": [
    "<font size=\"5\">**Bidirectional LSTM**<font>\n",
    "\n",
    "On some sequence prediction problems, it can be beneficial to allow the LSTM model to learn the input sequence both forward and backwards and concatenate both interpretations."
   ]
  },
  {
   "cell_type": "code",
   "execution_count": 7,
   "id": "ac2fcbe5",
   "metadata": {},
   "outputs": [
    {
     "name": "stdout",
     "output_type": "stream",
     "text": [
      "Input:\n",
      " [[[70]\n",
      "  [80]\n",
      "  [90]]]\n",
      "Prediction:\n",
      " [[100.3004]]\n"
     ]
    }
   ],
   "source": [
    "from keras.layers import Bidirectional\n",
    "\n",
    "# define model\n",
    "model = Sequential()\n",
    "model.add(Bidirectional(LSTM(50, activation='relu'), input_shape=(n_snapshots, n_features)))\n",
    "model.add(Dense(1))\n",
    "model.compile(optimizer='adam', loss='mse')\n",
    "# fit model\n",
    "model.fit(X, y, epochs=200, verbose=0)\n",
    "# demonstrate prediction\n",
    "X_input = np.array([70, 80, 90])\n",
    "X_input = X_input.reshape((1, n_snapshots, n_features))\n",
    "print ('Input:\\n', X_input)\n",
    "y_pred = model.predict(X_input, verbose=0)\n",
    "print ('Prediction:\\n', y_pred)"
   ]
  },
  {
   "cell_type": "markdown",
   "id": "c55bc28d",
   "metadata": {},
   "source": [
    "<font size=\"5\">**CNN LSTM**<font>"
   ]
  },
  {
   "cell_type": "markdown",
   "id": "daca6bf3",
   "metadata": {},
   "source": [
    "A convolutional neural network, or CNN for short, is a type of neural network developed for working with two-dimensional image data.\n",
    "\n",
    "The CNN can be very effective at automatically extracting and learning features from one-dimensional sequence data such as univariate time series data.\n",
    "\n",
    "A CNN model can be used in a hybrid model with an LSTM backend where the CNN is used to interpret subsequences of input that together are provided as a sequence to an LSTM model to interpret."
   ]
  },
  {
   "cell_type": "code",
   "execution_count": 9,
   "id": "240169de",
   "metadata": {},
   "outputs": [
    {
     "name": "stdout",
     "output_type": "stream",
     "text": [
      "[10 20 30 40] 50\n",
      "[20 30 40 50] 60\n",
      "[30 40 50 60] 70\n",
      "[40 50 60 70] 80\n",
      "[50 60 70 80] 90\n"
     ]
    }
   ],
   "source": [
    "# define input sequence\n",
    "raw_data = [10, 20, 30, 40, 50, 60, 70, 80, 90]\n",
    "# choose a number of time steps\n",
    "n_snapshots = 4\n",
    "# split into samples\n",
    "X, y = split_sequence(raw_data, n_snapshots)\n",
    "# summarize the data\n",
    "for i in range(len(X)):\n",
    "    print(X[i], y[i])"
   ]
  },
  {
   "cell_type": "markdown",
   "id": "59c36057",
   "metadata": {},
   "source": [
    "Each sample can then be split into two sub-samples, each with two time steps. The CNN can interpret each subsequence of two time steps and provide a time series of interpretations of the subsequences to the LSTM model to process as input."
   ]
  },
  {
   "cell_type": "code",
   "execution_count": 13,
   "id": "1054c40b",
   "metadata": {},
   "outputs": [],
   "source": [
    "# reshape from [samples, timesteps] into [samples, subsequences, timesteps, features]\n",
    "n_features = 1\n",
    "n_seq = 2\n",
    "n_steps = 2\n",
    "X = X.reshape((X.shape[0], n_seq, n_steps, n_features))"
   ]
  },
  {
   "cell_type": "code",
   "execution_count": 19,
   "id": "2cc4578e",
   "metadata": {},
   "outputs": [
    {
     "name": "stdout",
     "output_type": "stream",
     "text": [
      "Input:\n",
      " [[[[60]\n",
      "   [70]]\n",
      "\n",
      "  [[80]\n",
      "   [90]]]]\n",
      "Prediction:\n",
      " [[101.58238]]\n"
     ]
    }
   ],
   "source": [
    "from keras.layers import Flatten\n",
    "from keras.layers import TimeDistributed\n",
    "from keras.layers.convolutional import Conv1D\n",
    "from keras.layers.convolutional import MaxPooling1D\n",
    "\n",
    "# define model\n",
    "model = Sequential()\n",
    "model.add(TimeDistributed(Conv1D(filters=64, kernel_size=1, activation='relu'), input_shape=(None, n_steps, n_features)))\n",
    "model.add(TimeDistributed(MaxPooling1D(pool_size=2)))\n",
    "model.add(TimeDistributed(Flatten()))\n",
    "model.add(LSTM(50, activation='relu'))\n",
    "model.add(Dense(1))\n",
    "model.compile(optimizer='adam', loss='mse')\n",
    "# fit model\n",
    "model.fit(X, y, epochs=500, verbose=0)\n",
    "# demonstrate prediction\n",
    "X_input = np.array([60, 70, 80, 90])\n",
    "X_input = X_input.reshape((1, n_seq, n_steps, n_features))\n",
    "print ('Input:\\n', X_input)\n",
    "y_pred = model.predict(X_input, verbose=0)\n",
    "print ('Prediction:\\n', y_pred)"
   ]
  },
  {
   "cell_type": "code",
   "execution_count": null,
   "id": "593801de",
   "metadata": {},
   "outputs": [],
   "source": []
  }
 ],
 "metadata": {
  "kernelspec": {
   "display_name": "Python 3 (ipykernel)",
   "language": "python",
   "name": "python3"
  },
  "language_info": {
   "codemirror_mode": {
    "name": "ipython",
    "version": 3
   },
   "file_extension": ".py",
   "mimetype": "text/x-python",
   "name": "python",
   "nbconvert_exporter": "python",
   "pygments_lexer": "ipython3",
   "version": "3.8.5"
  }
 },
 "nbformat": 4,
 "nbformat_minor": 5
}
