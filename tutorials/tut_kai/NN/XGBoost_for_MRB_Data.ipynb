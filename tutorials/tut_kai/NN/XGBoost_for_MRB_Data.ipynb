{
 "cells": [
  {
   "cell_type": "markdown",
   "id": "040d9b55",
   "metadata": {},
   "source": [
    "Follow the CNN_for_MRB_data to process data for the following block."
   ]
  },
  {
   "cell_type": "code",
   "execution_count": null,
   "id": "2835a827",
   "metadata": {},
   "outputs": [],
   "source": [
    "\"\"\"No need to split at the moment, as we only have 1 snapshot\n",
    "v_trn, v_val = train_test_split(df_scaled, test_size = 0.2, random_state = 24, shuffle = True) #incomplete\n",
    "print (v_trn.shape, v_val.shape)\n",
    "#Let's reshape to get 4D data as input (note  nt =1 ignored), sounds stupid though.\n",
    "v_trn = np.reshape(v_trn.to_numpy().flatten(), (473, 120, -1))\n",
    "v_val = np.reshape(v_val.to_numpy().flatten(), (473, 120, -1))\n",
    "nx, ny, nv  = v_trn.shape\n",
    "print (nx,ny,nv)\n",
    "\"\"\""
   ]
  },
  {
   "cell_type": "code",
   "execution_count": null,
   "id": "67b22f58",
   "metadata": {},
   "outputs": [],
   "source": []
  },
  {
   "cell_type": "code",
   "execution_count": null,
   "id": "f7babed6",
   "metadata": {},
   "outputs": [],
   "source": [
    "from xgboost import XGBClassifier\n",
    "from sklearn.metrics import classification_report\n",
    "\n",
    "model = XGBClassifier()\n",
    "model.fit(X_train,y_train)\n",
    "print(model)\n",
    "print(classification_report(y_test, model.predict(X_test)))"
   ]
  },
  {
   "cell_type": "markdown",
   "id": "44b50666",
   "metadata": {},
   "source": [
    "Other possibilities:\n",
    "We can use CNN for feature extraction, followed by XGBoost for classificaition (e.g., Flame index).\n",
    "\n",
    "XGBoost is best ensemble learning algorithm, but it is alone not good for image classification or other deep learning applications."
   ]
  }
 ],
 "metadata": {
  "kernelspec": {
   "display_name": "kth",
   "language": "python",
   "name": "kth"
  },
  "language_info": {
   "codemirror_mode": {
    "name": "ipython",
    "version": 3
   },
   "file_extension": ".py",
   "mimetype": "text/x-python",
   "name": "python",
   "nbconvert_exporter": "python",
   "pygments_lexer": "ipython3",
   "version": "3.9.5"
  }
 },
 "nbformat": 4,
 "nbformat_minor": 5
}
