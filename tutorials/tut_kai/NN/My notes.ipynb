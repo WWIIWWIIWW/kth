{
 "cells": [
  {
   "cell_type": "markdown",
   "id": "173e2cf9",
   "metadata": {},
   "source": [
    "![title](img/CNNRNNANN.png)"
   ]
  },
  {
   "cell_type": "markdown",
   "id": "3cc3987a",
   "metadata": {},
   "source": [
    "Since CNN is good at extracting the features inside the image, a good practice would be to combine CNN with RNN."
   ]
  },
  {
   "cell_type": "markdown",
   "id": "bca62f2e",
   "metadata": {},
   "source": [
    "RNN can be the LSTM, hence we have CNN-LSTM network capable of dealing image in transient manner."
   ]
  }
 ],
 "metadata": {
  "kernelspec": {
   "display_name": "Python 3 (ipykernel)",
   "language": "python",
   "name": "python3"
  },
  "language_info": {
   "codemirror_mode": {
    "name": "ipython",
    "version": 3
   },
   "file_extension": ".py",
   "mimetype": "text/x-python",
   "name": "python",
   "nbconvert_exporter": "python",
   "pygments_lexer": "ipython3",
   "version": "3.9.5"
  }
 },
 "nbformat": 4,
 "nbformat_minor": 5
}
