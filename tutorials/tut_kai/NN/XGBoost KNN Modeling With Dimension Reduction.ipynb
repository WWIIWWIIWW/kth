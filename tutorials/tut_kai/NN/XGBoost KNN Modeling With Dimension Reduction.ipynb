{
 "cells": [
  {
   "cell_type": "markdown",
   "id": "ba811497",
   "metadata": {},
   "source": [
    "https://betterprogramming.pub/perform-xgboost-knn-modeling-with-dimension-reduction-technique-9f4ca52feeaf"
   ]
  },
  {
   "cell_type": "code",
   "execution_count": null,
   "id": "a1edba49",
   "metadata": {},
   "outputs": [],
   "source": []
  },
  {
   "cell_type": "markdown",
   "id": "db575643",
   "metadata": {},
   "source": [
    "we will model a classification machine learning algorithm on the MNIST data set, which is handwritten digit images. The data set contains images from zero to nine in grey-scale format. The size of each image is 28 x 28 to a total of 784 pixels. The data set is already separated into train-and-test CSV files."
   ]
  },
  {
   "cell_type": "markdown",
   "id": "7e97eecf",
   "metadata": {},
   "source": [
    "<font size=\"5\">**Implement XGBoost With Python**</font>"
   ]
  },
  {
   "cell_type": "code",
   "execution_count": 1,
   "id": "88898274",
   "metadata": {},
   "outputs": [],
   "source": [
    "import warnings\n",
    "warnings.filterwarnings(\"ignore\")\n",
    "import numpy as np\n",
    "import pandas as pd\n",
    "import seaborn as sns\n",
    "import matplotlib.pyplot as plt\n",
    "from sklearn.neighbors import KNeighborsClassifier\n",
    "from sklearn.decomposition import PCA"
   ]
  },
  {
   "cell_type": "markdown",
   "id": "9c2f83f4",
   "metadata": {},
   "source": [
    "digit-recognizer data at https://www.kaggle.com/c/digit-recognizer/data"
   ]
  },
  {
   "cell_type": "code",
   "execution_count": 2,
   "id": "a00a4c8c",
   "metadata": {},
   "outputs": [
    {
     "name": "stdout",
     "output_type": "stream",
     "text": [
      "(42000, 785)\n",
      "(42000, 784)\n"
     ]
    }
   ],
   "source": [
    "data0 = pd.read_csv('./input/digit-recognizer/train.csv')\n",
    "label = data0['label']\n",
    "data  = data0.drop(\"label\", axis=1)\n",
    "\n",
    "print(data0.shape)\n",
    "print(data.shape)"
   ]
  },
  {
   "cell_type": "markdown",
   "id": "0a1ace5a",
   "metadata": {},
   "source": [
    "Print a number image:"
   ]
  },
  {
   "cell_type": "code",
   "execution_count": 3,
   "id": "e447f9f3",
   "metadata": {},
   "outputs": [
    {
     "data": {
      "image/png": "[encoded data removed]",
      "text/plain": [
       "<Figure size 360x360 with 1 Axes>"
      ]
     },
     "metadata": {
      "needs_background": "light"
     },
     "output_type": "display_data"
    },
    {
     "name": "stdout",
     "output_type": "stream",
     "text": [
      "3\n"
     ]
    }
   ],
   "source": [
    "# displaying the image\n",
    "plt.figure(figsize=(5,5))\n",
    "idx = 7\n",
    "grid_data = data.iloc[idx].to_numpy().reshape(28,28)  \n",
    "plt.imshow(grid_data, interpolation = \"none\", cmap = \"gray\")\n",
    "plt.show()\n",
    "print(label[idx])"
   ]
  },
  {
   "cell_type": "markdown",
   "id": "de26dca8",
   "metadata": {},
   "source": [
    "We only take part of the data:"
   ]
  },
  {
   "cell_type": "code",
   "execution_count": 4,
   "id": "8bf0dcec",
   "metadata": {},
   "outputs": [
    {
     "name": "stdout",
     "output_type": "stream",
     "text": [
      "Data sample shape =  (35000, 784)\n"
     ]
    }
   ],
   "source": [
    "#taking sample data\n",
    "label_sample = label.head(35000)\n",
    "data_sample  = data.head(35000)\n",
    "print(\"Data sample shape = \", data_sample.shape)"
   ]
  },
  {
   "cell_type": "markdown",
   "id": "c99c9198",
   "metadata": {},
   "source": [
    "Now, let's see how many counts are there for each label in [0-9]."
   ]
  },
  {
   "cell_type": "code",
   "execution_count": 5,
   "id": "1c1049a9",
   "metadata": {},
   "outputs": [
    {
     "name": "stdout",
     "output_type": "stream",
     "text": [
      "1    4684\n",
      "7    4401\n",
      "3    4351\n",
      "9    4188\n",
      "2    4177\n",
      "6    4137\n",
      "0    4132\n",
      "4    4072\n",
      "8    4063\n",
      "5    3795\n",
      "Name: label, dtype: int64\n"
     ]
    }
   ],
   "source": [
    "count_table = data0.label.value_counts()\n",
    "print (count_table)"
   ]
  },
  {
   "cell_type": "code",
   "execution_count": 6,
   "id": "7584d793",
   "metadata": {},
   "outputs": [],
   "source": [
    "#reset index order and visualize"
   ]
  },
  {
   "cell_type": "code",
   "execution_count": 7,
   "id": "f4efd185",
   "metadata": {},
   "outputs": [
    {
     "data": {
      "text/plain": [
       "<AxesSubplot:xlabel='index', ylabel='label'>"
      ]
     },
     "execution_count": 7,
     "metadata": {},
     "output_type": "execute_result"
    },
    {
     "data": {
      "image/png": "[encoded data removed]",
      "text/plain": [
       "<Figure size 720x360 with 1 Axes>"
      ]
     },
     "metadata": {
      "needs_background": "light"
     },
     "output_type": "display_data"
    }
   ],
   "source": [
    "count_table = count_table.reset_index().sort_values(by='index') \n",
    "plt.figure(figsize=(10, 5))\n",
    "sns.barplot(x='index', y='label', data=count_table)"
   ]
  },
  {
   "cell_type": "markdown",
   "id": "bc192dfe",
   "metadata": {},
   "source": [
    "Apply StandardScaler to the data:"
   ]
  },
  {
   "cell_type": "code",
   "execution_count": 8,
   "id": "8a2ce407",
   "metadata": {},
   "outputs": [],
   "source": [
    "from sklearn.preprocessing import StandardScaler\n",
    "from sklearn.model_selection import train_test_split\n",
    "sc = StandardScaler()\n",
    "X_train, X_test, y_train, y_test = train_test_split(data_sample, label_sample, stratify=label_sample, test_size=0.22, random_state=42)\n",
    "X_train = sc.fit_transform(X_train)\n",
    "X_test = sc.transform(X_test)"
   ]
  },
  {
   "cell_type": "markdown",
   "id": "bfe5d6b9",
   "metadata": {},
   "source": [
    "Create XGBClassifier which a tree type, and check the classification report.\n"
   ]
  },
  {
   "cell_type": "code",
   "execution_count": 9,
   "id": "a4554ea6",
   "metadata": {
    "scrolled": true
   },
   "outputs": [
    {
     "name": "stdout",
     "output_type": "stream",
     "text": [
      "[17:55:09] WARNING: ../src/learner.cc:1095: Starting in XGBoost 1.3.0, the default evaluation metric used with the objective 'multi:softprob' was changed from 'merror' to 'mlogloss'. Explicitly set eval_metric if you'd like to restore the old behavior.\n",
      "              precision    recall  f1-score   support\n",
      "\n",
      "           0       0.98      0.98      0.98       751\n",
      "           1       0.99      0.99      0.99       859\n",
      "           2       0.96      0.97      0.96       771\n",
      "           3       0.98      0.96      0.97       797\n",
      "           4       0.97      0.97      0.97       741\n",
      "           5       0.97      0.96      0.97       703\n",
      "           6       0.98      0.98      0.98       754\n",
      "           7       0.98      0.97      0.97       810\n",
      "           8       0.97      0.97      0.97       743\n",
      "           9       0.95      0.96      0.96       771\n",
      "\n",
      "    accuracy                           0.97      7700\n",
      "   macro avg       0.97      0.97      0.97      7700\n",
      "weighted avg       0.97      0.97      0.97      7700\n",
      "\n"
     ]
    }
   ],
   "source": [
    "from xgboost import XGBClassifier\n",
    "from sklearn.metrics import classification_report\n",
    "\n",
    "clftre = XGBClassifier()\n",
    "clftre.fit(X_train,y_train)\n",
    "print(classification_report(y_test, clftre.predict(X_test)))"
   ]
  },
  {
   "cell_type": "markdown",
   "id": "36771544",
   "metadata": {},
   "source": [
    "Now we will try to reduce the dimension with the help of the PCA technique:"
   ]
  },
  {
   "cell_type": "code",
   "execution_count": 10,
   "id": "bb876c17",
   "metadata": {},
   "outputs": [
    {
     "data": {
      "image/png": "[encoded data removed]",
      "text/plain": [
       "<Figure size 864x576 with 1 Axes>"
      ]
     },
     "metadata": {
      "needs_background": "light"
     },
     "output_type": "display_data"
    }
   ],
   "source": [
    "#Using PCA technique\n",
    "pca = PCA(svd_solver='randomized', random_state=42)\n",
    "pca.fit(X_train)\n",
    "\n",
    "fig = plt.figure(figsize = (12,8))\n",
    "plt.plot(np.cumsum(pca.explained_variance_ratio_))\n",
    "plt.xlabel('n_components', fontsize = 12)\n",
    "plt.ylabel('cumulative_explained_variance', fontsize = 12)\n",
    "plt.show()"
   ]
  },
  {
   "cell_type": "markdown",
   "id": "5aacd18f",
   "metadata": {},
   "source": [
    "From the above plot, we can take 100 dimensions, approximately, as 70% of the variance is explained."
   ]
  },
  {
   "cell_type": "markdown",
   "id": "cac6f040",
   "metadata": {},
   "source": [
    "Data processing needed before this, follow the CNN for MRB data demonstration"
   ]
  },
  {
   "cell_type": "code",
   "execution_count": 1,
   "id": "3e020240",
   "metadata": {},
   "outputs": [
    {
     "data": {
      "text/plain": [
       "\"No need to split at the moment, as we only have 1 snapshot\\nv_trn, v_val = train_test_split(df_scaled, test_size = 0.2, random_state = 24, shuffle = True) #incomplete\\nprint (v_trn.shape, v_val.shape)\\n#Let's reshape to get 4D data as input (note  nt =1 ignored), sounds stupid though.\\nv_trn = np.reshape(v_trn.to_numpy().flatten(), (473, 120, -1))\\nv_val = np.reshape(v_val.to_numpy().flatten(), (473, 120, -1))\\nnx, ny, nv  = v_trn.shape\\nprint (nx,ny,nv)\\n\""
      ]
     },
     "execution_count": 1,
     "metadata": {},
     "output_type": "execute_result"
    }
   ],
   "source": [
    "\n",
    "\"\"\"No need to split at the moment, as we only have 1 snapshot\n",
    "v_trn, v_val = train_test_split(df_scaled, test_size = 0.2, random_state = 24, shuffle = True) #incomplete\n",
    "print (v_trn.shape, v_val.shape)\n",
    "#Let's reshape to get 4D data as input (note  nt =1 ignored), sounds stupid though.\n",
    "v_trn = np.reshape(v_trn.to_numpy().flatten(), (473, 120, -1))\n",
    "v_val = np.reshape(v_val.to_numpy().flatten(), (473, 120, -1))\n",
    "nx, ny, nv  = v_trn.shape\n",
    "print (nx,ny,nv)\n",
    "\"\"\""
   ]
  },
  {
   "cell_type": "code",
   "execution_count": 11,
   "id": "33bcb77b",
   "metadata": {},
   "outputs": [
    {
     "name": "stdout",
     "output_type": "stream",
     "text": [
      "shape of pca_reduced.shape =  (35000, 100)\n"
     ]
    }
   ],
   "source": [
    "# initializing the pca\n",
    "from sklearn import decomposition\n",
    "pca = decomposition.PCA()\n",
    "pca.n_components = 100\n",
    "pca_data = pca.fit_transform(data_sample)\n",
    "# The data will be in a 2-d form after pca\n",
    "print(\"shape of pca_reduced.shape = \", pca_data.shape)"
   ]
  },
  {
   "cell_type": "markdown",
   "id": "c7f8c082",
   "metadata": {},
   "source": [
    "Now we can see that the feature dimensions are reduced to 100 from 784. It’s time to retrain the XGBoost model with PCA data."
   ]
  },
  {
   "cell_type": "code",
   "execution_count": 12,
   "id": "028b417d",
   "metadata": {},
   "outputs": [
    {
     "name": "stdout",
     "output_type": "stream",
     "text": [
      "[17:56:44] WARNING: ../src/learner.cc:1095: Starting in XGBoost 1.3.0, the default evaluation metric used with the objective 'multi:softprob' was changed from 'merror' to 'mlogloss'. Explicitly set eval_metric if you'd like to restore the old behavior.\n"
     ]
    },
    {
     "data": {
      "text/plain": [
       "XGBClassifier(base_score=0.5, booster='gbtree', colsample_bylevel=1,\n",
       "              colsample_bynode=1, colsample_bytree=1, gamma=0, gpu_id=-1,\n",
       "              importance_type='gain', interaction_constraints='',\n",
       "              learning_rate=0.300000012, max_delta_step=0, max_depth=6,\n",
       "              min_child_weight=1, missing=nan, monotone_constraints='()',\n",
       "              n_estimators=100, n_jobs=16, num_parallel_tree=1,\n",
       "              objective='multi:softprob', random_state=0, reg_alpha=0,\n",
       "              reg_lambda=1, scale_pos_weight=None, subsample=1,\n",
       "              tree_method='exact', validate_parameters=1, verbosity=None)"
      ]
     },
     "execution_count": 12,
     "metadata": {},
     "output_type": "execute_result"
    }
   ],
   "source": [
    "X_train, X_test, y_train, y_test = train_test_split(pca_data, label_sample, stratify=label_sample, test_size=0.22, random_state=42)\n",
    "clftre = XGBClassifier()\n",
    "clftre.fit(X_train,y_train)"
   ]
  },
  {
   "cell_type": "code",
   "execution_count": 13,
   "id": "a1d63c79",
   "metadata": {},
   "outputs": [
    {
     "name": "stdout",
     "output_type": "stream",
     "text": [
      "              precision    recall  f1-score   support\n",
      "\n",
      "           0       0.97      0.97      0.97       751\n",
      "           1       0.99      0.99      0.99       859\n",
      "           2       0.96      0.95      0.95       771\n",
      "           3       0.94      0.95      0.94       797\n",
      "           4       0.96      0.96      0.96       741\n",
      "           5       0.95      0.95      0.95       703\n",
      "           6       0.97      0.98      0.97       754\n",
      "           7       0.97      0.97      0.97       810\n",
      "           8       0.94      0.94      0.94       743\n",
      "           9       0.93      0.92      0.92       771\n",
      "\n",
      "    accuracy                           0.96      7700\n",
      "   macro avg       0.96      0.96      0.96      7700\n",
      "weighted avg       0.96      0.96      0.96      7700\n",
      "\n"
     ]
    }
   ],
   "source": [
    "print(classification_report(y_test, clftre.predict(X_test)))"
   ]
  },
  {
   "cell_type": "markdown",
   "id": "7a140392",
   "metadata": {},
   "source": [
    "<font size=\"5\">**Implement the KNN With Python**<font>\n"
   ]
  },
  {
   "cell_type": "markdown",
   "id": "e4e8c798",
   "metadata": {},
   "source": [
    "Everything is the same as in XGBoost. To know the value of k with good accuracy with a for loop:"
   ]
  },
  {
   "cell_type": "code",
   "execution_count": null,
   "id": "88c797f7",
   "metadata": {},
   "outputs": [],
   "source": []
  },
  {
   "cell_type": "code",
   "execution_count": 14,
   "id": "c5b366bd",
   "metadata": {},
   "outputs": [
    {
     "name": "stdout",
     "output_type": "stream",
     "text": [
      "k=1, accuracy=96.57%\n",
      "k=3, accuracy=96.78%\n",
      "k=5, accuracy=96.65%\n",
      "k=7, accuracy=96.62%\n",
      "k=9, accuracy=96.53%\n",
      "k=11, accuracy=96.32%\n",
      "k=13, accuracy=96.13%\n",
      "k=15, accuracy=96.05%\n",
      "k=17, accuracy=95.84%\n",
      "k=19, accuracy=95.84%\n",
      "k=21, accuracy=95.62%\n",
      "k=23, accuracy=95.61%\n",
      "k=25, accuracy=95.36%\n",
      "k=27, accuracy=95.32%\n",
      "k=29, accuracy=95.25%\n"
     ]
    }
   ],
   "source": [
    "kVals = range(1, 30, 2)\n",
    "accuracies = []\n",
    "#We will use for loop to over the various k value for good accuracy\n",
    "for k in range(1, 30, 2):\n",
    "    model = KNeighborsClassifier(n_neighbors=k)\n",
    "    model.fit(X_train, y_train)\n",
    "   #creating a list of k values and accuracy\n",
    "    score = model.score(X_test, y_test)\n",
    "    print(\"k=%d, accuracy=%.2f%%\" % (k, score * 100))\n",
    "    accuracies.append(score)"
   ]
  },
  {
   "cell_type": "markdown",
   "id": "a0d0f63d",
   "metadata": {},
   "source": [
    "Now retrain the model with the value of k=5 and get the classification report without PCA."
   ]
  },
  {
   "cell_type": "code",
   "execution_count": 15,
   "id": "d1411b71",
   "metadata": {},
   "outputs": [
    {
     "name": "stdout",
     "output_type": "stream",
     "text": [
      "EVALUATION ON TESTING DATA\n",
      "              precision    recall  f1-score   support\n",
      "\n",
      "           0       0.98      0.99      0.98       751\n",
      "           1       0.96      1.00      0.98       859\n",
      "           2       0.98      0.96      0.97       771\n",
      "           3       0.97      0.96      0.96       797\n",
      "           4       0.98      0.96      0.97       741\n",
      "           5       0.94      0.96      0.95       703\n",
      "           6       0.98      0.99      0.98       754\n",
      "           7       0.95      0.98      0.96       810\n",
      "           8       0.99      0.93      0.95       743\n",
      "           9       0.95      0.94      0.95       771\n",
      "\n",
      "    accuracy                           0.97      7700\n",
      "   macro avg       0.97      0.97      0.97      7700\n",
      "weighted avg       0.97      0.97      0.97      7700\n",
      "\n"
     ]
    }
   ],
   "source": [
    "model = KNeighborsClassifier(n_neighbors=5)\n",
    "model.fit(X_train, y_train)\n",
    "predictions = model.predict(X_test)\n",
    "print(\"EVALUATION ON TESTING DATA\")\n",
    "print(classification_report(y_test, predictions))"
   ]
  },
  {
   "cell_type": "markdown",
   "id": "e907001f",
   "metadata": {},
   "source": [
    "Now we will find the accuracy with 400 PCA components."
   ]
  },
  {
   "cell_type": "code",
   "execution_count": null,
   "id": "78889c83",
   "metadata": {},
   "outputs": [],
   "source": []
  },
  {
   "cell_type": "code",
   "execution_count": null,
   "id": "5450b02b",
   "metadata": {},
   "outputs": [],
   "source": []
  }
 ],
 "metadata": {
  "kernelspec": {
   "display_name": "Python 3 (ipykernel)",
   "language": "python",
   "name": "python3"
  },
  "language_info": {
   "codemirror_mode": {
    "name": "ipython",
    "version": 3
   },
   "file_extension": ".py",
   "mimetype": "text/x-python",
   "name": "python",
   "nbconvert_exporter": "python",
   "pygments_lexer": "ipython3",
   "version": "3.9.5"
  }
 },
 "nbformat": 4,
 "nbformat_minor": 5
}
